{
 "cells": [
  {
   "cell_type": "code",
   "execution_count": 1,
   "metadata": {},
   "outputs": [],
   "source": [
    "# Import the pathlib and csv library\n",
    "from pathlib import Path\n",
    "import csv"
   ]
  },
  {
   "cell_type": "code",
   "execution_count": 2,
   "metadata": {},
   "outputs": [],
   "source": [
    "# set the file path\n",
    "csvpath = Path(\"budget_data.csv\")"
   ]
  },
  {
   "cell_type": "code",
   "execution_count": 3,
   "metadata": {},
   "outputs": [],
   "source": [
    "# Open the csv file as an object and read data into the budget list\n",
    "with open(csvpath, 'r') as csv_file:\n",
    "    \n",
    "    # Parse file as ordered dictionary\n",
    "    reader = csv.DictReader(csv_file)\n",
    "    \n",
    "    # Calculate total pnl as sum\n",
    "    total_pnl = sum(float(row[\"Profit/Losses\"]) for row in reader)"
   ]
  },
  {
   "cell_type": "code",
   "execution_count": 4,
   "metadata": {},
   "outputs": [],
   "source": [
    "#Calculate month count\n",
    "month_count = len(open(csvpath).readlines()) -1\n"
   ]
  },
  {
   "cell_type": "code",
   "execution_count": 5,
   "metadata": {},
   "outputs": [],
   "source": [
    "# Calculate monthly average\n",
    "average = round(total_pnl / month_count, 2)\n"
   ]
  },
  {
   "cell_type": "code",
   "execution_count": 6,
   "metadata": {},
   "outputs": [],
   "source": [
    "# Use pandas to obtain Max and Min pnl values (sorry, had to use pd)\n",
    "import pandas as pd\n",
    "df=pd.read_csv('budget_data.csv')\n",
    "\n",
    "# Extract greatest increase and decrease using min and max\n",
    "greatest_increase=df['Profit/Losses'].max()\n",
    "greatest_decrease=df['Profit/Losses'].min()"
   ]
  },
  {
   "cell_type": "code",
   "execution_count": 7,
   "metadata": {},
   "outputs": [],
   "source": [
    "# Create output txt file\n",
    "output = Path(\"PyBank.txt\")"
   ]
  },
  {
   "cell_type": "code",
   "execution_count": 8,
   "metadata": {},
   "outputs": [],
   "source": [
    "# Open txt file for writing\n",
    "f = open(\"PyBank.txt\", \"w\")"
   ]
  },
  {
   "cell_type": "code",
   "execution_count": 10,
   "metadata": {},
   "outputs": [],
   "source": [
    "print(f\"Financial Analysis\", file=f)\n",
    "print(f\"----------------------------------------------------------\", file=f)\n",
    "print(f\"Total Months: {month_count}\", file=f)\n",
    "print(f\"Total: ${total_pnl}\", file=f)\n",
    "print(f\"Average Change: ${average}\", file=f)\n",
    "print(f\"Greatest Increase in Profits: ${greatest_increase}\", file=f)\n",
    "print(f\"Greatest Decrease in Profits: ${greatest_decrease}\", file=f)"
   ]
  },
  {
   "cell_type": "code",
   "execution_count": null,
   "metadata": {},
   "outputs": [],
   "source": []
  }
 ],
 "metadata": {
  "kernelspec": {
   "display_name": "Python 3",
   "language": "python",
   "name": "python3"
  },
  "language_info": {
   "codemirror_mode": {
    "name": "ipython",
    "version": 3
   },
   "file_extension": ".py",
   "mimetype": "text/x-python",
   "name": "python",
   "nbconvert_exporter": "python",
   "pygments_lexer": "ipython3",
   "version": "3.7.7"
  }
 },
 "nbformat": 4,
 "nbformat_minor": 4
}
