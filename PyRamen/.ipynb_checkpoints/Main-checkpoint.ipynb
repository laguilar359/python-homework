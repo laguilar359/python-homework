{
 "cells": [
  {
   "cell_type": "code",
   "execution_count": 25,
   "metadata": {},
   "outputs": [],
   "source": [
    "# @TODO: Import libraries\n",
    "import csv\n",
    "from pathlib import Path"
   ]
  },
  {
   "cell_type": "code",
   "execution_count": 31,
   "metadata": {},
   "outputs": [],
   "source": [
    "# @TODO: Set file paths for menu_data.csv and sales_data.csv\n",
    "menu_filepath = Path('Resources/menu_data.csv')\n",
    "sales_filepath = Path('Resources/sales_data.csv')"
   ]
  },
  {
   "cell_type": "code",
   "execution_count": 32,
   "metadata": {},
   "outputs": [],
   "source": [
    "# @TODO: Initialize list objects to hold our menu and sales data\n",
    "menu = []\n",
    "sales = []"
   ]
  },
  {
   "cell_type": "code",
   "execution_count": 53,
   "metadata": {},
   "outputs": [
    {
     "name": "stdout",
     "output_type": "stream",
     "text": [
      "['item', 'category', 'description', 'price', 'cost']\n",
      "[['edamame', 'appetizers', 'boiled soybeans, maldon sea salt', '4', '1'], ['house salad', 'appetizers', 'mixed greens, cherry tomatoes, cucumber, house ginger dressing', '4', '2']]\n"
     ]
    }
   ],
   "source": [
    "# @TODO: Read in the menu data into the menu list\n",
    "with open (menu_filepath, 'r') as menu_file:\n",
    "    menureader = csv.reader(menu_file, delimiter=\",\")\n",
    "    menu_header = next(menureader)\n",
    "    print(menu_header)\n",
    "    menu = list(menureader)\n",
    "print(menu[0:2])\n",
    "        "
   ]
  },
  {
   "cell_type": "code",
   "execution_count": 52,
   "metadata": {},
   "outputs": [
    {
     "name": "stdout",
     "output_type": "stream",
     "text": [
      "['Line_Item_ID', 'Date', 'Credit_Card_Number', 'Quantity', 'Menu_Item']\n",
      "[['1', '01-01-2017', '7437926611570799', '1', 'spicy miso ramen'], ['2', '01-01-2017', '7437926611570799', '1', 'spicy miso ramen']]\n"
     ]
    }
   ],
   "source": [
    "# @TODO: Read in the sales data into the sales list\n",
    "with open (sales_filepath, 'r') as sales_file:\n",
    "    salesreader = csv.reader(sales_file, delimiter=\",\")\n",
    "    sales_header = next(salesreader)\n",
    "    print(sales_header)\n",
    "    sales = list(salesreader)\n",
    "print(sales[0:2])\n"
   ]
  },
  {
   "cell_type": "code",
   "execution_count": 59,
   "metadata": {},
   "outputs": [],
   "source": [
    "# @TODO: Initialize dict object to hold our key-value pairs of items and metrics\n",
    "report = {}"
   ]
  },
  {
   "cell_type": "code",
   "execution_count": 60,
   "metadata": {},
   "outputs": [],
   "source": [
    "# Initialize a row counter variable\n",
    "row_count = 0"
   ]
  },
  {
   "cell_type": "code",
   "execution_count": null,
   "metadata": {},
   "outputs": [],
   "source": [
    "# @TODO: Loop over every row in the sales list object\n",
    "for row in sales:\n",
    "    \n",
    "    \n",
    "\n"
   ]
  },
  {
   "cell_type": "code",
   "execution_count": null,
   "metadata": {},
   "outputs": [],
   "source": [
    "    # Line_Item_ID,Date,Credit_Card_Number,Quantity,Menu_Item\n",
    "    temp = []\n",
    "for sub_list in documents:\n",
    "    temp.append(sub_list[0])\n",
    "documents = temp\n",
    "    # @TODO: Initialize sales data variables\n",
    "\n",
    "\n",
    "    # @TODO:\n",
    "    # If the item value not in the report, add it as a new entry with initialized metrics\n",
    "\n",
    "    # Naming convention allows the keys to be ordered in logical fashion, count, revenue, cost, profit\n",
    "    report = {\n",
    "    \"01-count\": 0,\n",
    "    \"02-revenue\": 0,\n",
    "    \"03-cogs\": 0,\n",
    "    \"04-profit\": 0,\n",
    "    }\n",
    "\n",
    "\n",
    "\n",
    "\n",
    "\n",
    "\n",
    "\n",
    "    # @TODO: For every row in our sales data, loop over the menu records to determine a match\n",
    "\n",
    "\n",
    "        # Item,Category,Description,Price,Cost\n",
    "        # @TODO: Initialize menu data variables\n",
    "\n",
    "\n",
    "\n",
    "\n",
    "        # @TODO: Calculate profit of each item in the menu data\n",
    "\n",
    "\n",
    "        # @TODO: If the item value in our sales data is equal to the any of the items in the menu, then begin tracking metrics for that item\n",
    "\n",
    "\n",
    "            # @TODO: Print out matching menu data\n",
    "\n",
    "\n",
    "\n",
    "\n",
    "\n",
    "\n",
    "            # @TODO: Cumulatively add up the metrics for each item key\n",
    "\n",
    "\n",
    "\n",
    "\n",
    "\n",
    "        # @TODO: Else, the sales item does not equal any fo the item in the menu data, therefore no match\n",
    "\n",
    "\n",
    "\n",
    "    # @TODO: Increment the row counter by 1"
   ]
  },
  {
   "cell_type": "code",
   "execution_count": 11,
   "metadata": {},
   "outputs": [],
   "source": [
    "# @TODO: Print total number of records in sales data\n",
    "\n",
    "\n",
    "\n",
    "\n",
    "# @TODO: Write out report to a text file (won't appear on the command line output)"
   ]
  },
  {
   "cell_type": "code",
   "execution_count": null,
   "metadata": {},
   "outputs": [],
   "source": []
  }
 ],
 "metadata": {
  "kernelspec": {
   "display_name": "Python 3",
   "language": "python",
   "name": "python3"
  },
  "language_info": {
   "codemirror_mode": {
    "name": "ipython",
    "version": 3
   },
   "file_extension": ".py",
   "mimetype": "text/x-python",
   "name": "python",
   "nbconvert_exporter": "python",
   "pygments_lexer": "ipython3",
   "version": "3.7.7"
  }
 },
 "nbformat": 4,
 "nbformat_minor": 4
}
